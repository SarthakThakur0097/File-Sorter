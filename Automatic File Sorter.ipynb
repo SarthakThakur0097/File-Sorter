{
 "cells": [
  {
   "cell_type": "code",
   "execution_count": 11,
   "id": "57e27394-30d6-4c6d-835e-d120eb66287e",
   "metadata": {},
   "outputs": [
    {
     "data": {
      "text/plain": [
       "['.git', '.gitignore']"
      ]
     },
     "execution_count": 11,
     "metadata": {},
     "output_type": "execute_result"
    }
   ],
   "source": [
    "import os, shutil\n",
    "\n",
    "path = r\"C:\\Users\\Sarthak\\Documents\\ML\\File-Sorter/\"\n",
    "\n",
    "os.listdir(path)"
   ]
  },
  {
   "cell_type": "code",
   "execution_count": 21,
   "id": "5540afff-fd18-4f42-a88e-9f2699674f1e",
   "metadata": {
    "tags": []
   },
   "outputs": [],
   "source": [
    "folder_names = ['csv files', 'image files', 'text files']\n",
    "for loop in range(0, 3):\n",
    "    if not os.path.exists(path + folder_names[loop]):\n",
    "        os.makedirs((path+ folder_names[loop]))"
   ]
  },
  {
   "cell_type": "code",
   "execution_count": 22,
   "id": "4953ed3b-dc8e-4c17-a854-42dbc93414e4",
   "metadata": {
    "tags": []
   },
   "outputs": [],
   "source": [
    "files = os.listdir(path)\n",
    "\n",
    "for file in files:\n",
    "    if \".csv\" in file and not os.path.exists(path+f\"csv files/{file}\"):\n",
    "        shutil.move(path+file, path + f\"csv files/{file}\")\n",
    "    elif \".jpg\" in file and not os.path.exists(path+f\"image files/{file}\"):\n",
    "        shutil.move(path+file, path + f\"image files/{file}\")\n",
    "    elif \".txt\" in file and not os.path.exists(path+f\"text files/{file}\"):\n",
    "        shutil.move(path+file, path + f\"text files/{file}\")"
   ]
  }
 ],
 "metadata": {
  "kernelspec": {
   "display_name": "Python 3 (ipykernel)",
   "language": "python",
   "name": "python3"
  },
  "language_info": {
   "codemirror_mode": {
    "name": "ipython",
    "version": 3
   },
   "file_extension": ".py",
   "mimetype": "text/x-python",
   "name": "python",
   "nbconvert_exporter": "python",
   "pygments_lexer": "ipython3",
   "version": "3.10.12"
  }
 },
 "nbformat": 4,
 "nbformat_minor": 5
}
